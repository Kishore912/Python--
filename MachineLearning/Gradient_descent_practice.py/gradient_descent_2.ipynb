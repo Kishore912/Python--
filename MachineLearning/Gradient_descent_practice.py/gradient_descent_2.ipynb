{
 "cells": [
  {
   "cell_type": "code",
   "execution_count": 1,
   "metadata": {},
   "outputs": [
    {
     "name": "stderr",
     "output_type": "stream",
     "text": [
      "C:\\Users\\tmachine\\AppData\\Local\\Temp\\ipykernel_2436\\2622020097.py:2: DeprecationWarning: \n",
      "Pyarrow will become a required dependency of pandas in the next major release of pandas (pandas 3.0),\n",
      "(to allow more performant data types, such as the Arrow string type, and better interoperability with other libraries)\n",
      "but was not found to be installed on your system.\n",
      "If this would cause problems for you,\n",
      "please provide us feedback at https://github.com/pandas-dev/pandas/issues/54466\n",
      "        \n",
      "  import pandas as pd\n"
     ]
    }
   ],
   "source": [
    "import numpy as np\n",
    "import pandas as pd\n",
    "import matplotlib.pyplot as plt\n",
    "from sklearn.linear_model import LinearRegression"
   ]
  },
  {
   "cell_type": "code",
   "execution_count": 8,
   "metadata": {},
   "outputs": [],
   "source": [
    "def prediction():\n",
    "    df = pd.read_csv(\"E:\\T-Machine\\test_scores.csv\")\n",
    "    re = LinearRegression()\n",
    "    re.fit(df[['math']],df.cs)\n",
    "    return re.coef_ , re.intercept_"
   ]
  },
  {
   "cell_type": "code",
   "execution_count": 11,
   "metadata": {},
   "outputs": [],
   "source": [
    "import math\n",
    "def Gradient_descent(x,y):\n",
    "    m_current = b_current = 0\n",
    "    iterations = 1000\n",
    "    n = len(x)\n",
    "    cost_previous = 0\n",
    "    learning_rate = 0.01\n",
    "    for i in range(iterations):\n",
    "        y_predicted = m_current*x+b_current\n",
    "        cost = (1/n)*sum([val**2 for val in (y-y_predicted)])\n",
    "        md = -(2/n)*sum(x*(y-y_predicted))\n",
    "        bd = -(2/n)*sum(y-y_predicted)\n",
    "        m_current = m_current-learning_rate*md\n",
    "        b_current = b_current-learning_rate*bd\n",
    "        if math.isclose(cost, cost_previous, rel_tol=1e-20):\n",
    "            break\n",
    "        cost_previous = cost\n",
    "        print(f\"m = {m_current}  ,  b={b_current}  , cost={cost} , i = {i}\" )\n",
    "    return m_current , b_current   "
   ]
  },
  {
   "cell_type": "code",
   "execution_count": 13,
   "metadata": {},
   "outputs": [
    {
     "name": "stdout",
     "output_type": "stream",
     "text": [
      "m = 98.918  ,  b=1.3980000000000001  , cost=5199.1 , i = 0\n",
      "m = -9169.587968000002  ,  b=-129.386408  , cost=45366108.340850405 , i = 1\n",
      "m = 859278.7790833284  ,  b=12125.168845408005  , cost=398290329619.79004 , i = 2\n",
      "m = -80513336.3321037  ,  b=-1136112.3853868274  , cost=3496779946139640.5 , i = 3\n",
      "m = 7544007292.656351  ,  b=106452428.60001147  , cost=3.0699891720627802e+19 , i = 4\n",
      "m = -706864823521.7386  ,  b=-9974470361.562872  , cost=2.6952892837845242e+23 , i = 5\n",
      "m = 66232422560018.44  ,  b=934596423272.1094  , cost=2.3663224578744982e+27 , i = 6\n",
      "m = -6205901966243919.0  ,  b=-87570612045376.58  , cost=2.077506859218773e+31 , i = 7\n",
      "m = 5.814858905354231e+17  ,  b=8205265827097408.0  , cost=1.8239419296970382e+35 , i = 8\n",
      "m = -5.448456046050343e+19  ,  b=-7.688239892447695e+17  , cost=1.6013252366146002e+39 , i = 9\n",
      "m = 5.105140772789593e+21  ,  b=7.203792526577272e+19  , cost=1.4058794699920812e+43 , i = 10\n",
      "m = -4.783458302630841e+23  ,  b=-6.74987090568644e+21  , cost=1.2342883500192473e+47 , i = 11\n",
      "m = 4.482045520657572e+25  ,  b=6.324551557439078e+23  , cost=1.0836403571650532e+51 , i = 12\n",
      "m = -4.1996252038400877e+27  ,  b=-5.926032210335615e+25  , cost=9.513793301690755e+54 , i = 13\n",
      "m = 3.9350006088606955e+29  ,  b=5.552624156669068e+27  , cost=8.352610936721472e+58 , i = 14\n",
      "m = -3.6870504009680314e+31  ,  b=-5.202745096702534e+29  , cost=7.3331537955360665e+62 , i = 15\n",
      "m = 3.4547239023717715e+33  ,  b=4.874912433745606e+31  , cost=6.43812395864958e+66 , i = 16\n",
      "m = -3.237036640043024e+35  ,  b=-4.567736991717981e+33  , cost=5.652334761091385e+70 , i = 17\n",
      "m = 3.0330661740543987e+37  ,  b=4.279917128578644e+35  , cost=4.962453108489603e+74 , i = 18\n",
      "m = -2.8419481887825394e+39  ,  b=-4.0102332206766067e+37  , cost=4.356773244124558e+78 , i = 19\n",
      "m = 2.662872830409765e+41  ,  b=3.757542494650841e+39  , cost=3.8250181282815046e+82 , i = 20\n",
      "m = -2.4950812752051536e+43  ,  b=-3.520774184979868e+41  , cost=3.3581650597521543e+86 , i = 21\n",
      "m = 2.3378625140433015e+45  ,  b=3.298924996661283e+43  , cost=2.948292580669893e+90 , i = 22\n",
      "m = -2.190550339535319e+47  ,  b=-3.09105485379457e+45  , cost=2.5884460669942973e+94 , i = 23\n",
      "m = 2.052520523005154e+49  ,  b=2.8962829160519996e+47  , cost=2.2725197240146022e+98 , i = 24\n",
      "m = -1.923188169348813e+51  ,  b=-2.7137838461575763e+49  , cost=1.9951529845983013e+102 , i = 25\n",
      "m = 1.8020052385678148e+53  ,  b=2.5427843125576694e+51  , cost=1.7516395522936851e+106 , i = 26\n",
      "m = -1.6884582234744865e+55  ,  b=-2.382559712463536e+53  , cost=1.5378475459501542e+110 , i = 27\n",
      "m = 1.5820659737284843e+57  ,  b=2.2324311013797718e+55  , cost=1.35014939088815e+114 , i = 28\n",
      "m = -1.4823776569839887e+59  ,  b=-2.0917623161077335e+57  , cost=1.1853602670278786e+118 , i = 29\n",
      "m = 1.3889708485080324e+61  ,  b=1.9599572790327534e+59  , cost=1.0406840695784935e+122 , i = 30\n",
      "m = -1.3014497411748039e+63  ,  b=-1.8364574722722103e+61  , cost=9.136659653608772e+125 , i = 31\n",
      "m = 1.219443468250852e+65  ,  b=1.7207395709812706e+63  , cost=8.0215073975038e+129 , i = 32\n",
      "m = -1.1426045318640812e+67  ,  b=-1.6123132257875217e+65  , cost=7.042462274797934e+133 , i = 33\n",
      "m = 1.0706073304972364e+69  ,  b=1.510718984957695e+67  , cost=6.182912068046699e+137 , i = 34\n",
      "m = -1.0031467792662015e+71  ,  b=-1.4155263474917225e+69  , cost=5.428272122663853e+141 , i = 35\n",
      "m = 9.399370171366024e+72  ,  b=1.3263319388942262e+71  , cost=4.765737877782639e+145 , i = 36\n",
      "m = -8.807101956006055e+74  ,  b=-1.2427578018933375e+73  , cost=4.184067601346858e+149 , i = 37\n",
      "m = 8.252153436809802e+76  ,  b=1.164449794863854e+75  , cost=3.6733916429297385e+153 , i = 38\n",
      "m = -7.732173044529361e+78  ,  b=-1.0910760911681242e+77  , cost=3.225044967725275e+157 , i = 39\n",
      "m = 7.244957385772907e+80  ,  b=1.0223257730556751e+79  , cost=2.831420130186499e+161 , i = 40\n",
      "m = -6.788441906224863e+82  ,  b=-9.579075141633148e+80  , cost=2.485838192600437e+165 , i = 41\n",
      "m = 6.360692142190374e+84  ,  b=8.975483450328412e+82  , cost=2.1824353983751556e+169 , i = 42\n",
      "m = -5.959895523392907e+86  ,  b=-8.409924964153124e+84  , cost=1.9160636771367335e+173 , i = 43\n",
      "m = 5.584353692289688e+88  ,  b=7.880003154604224e+86  , cost=1.68220329342901e+177 , i = 44\n",
      "m = -5.232475307358434e+90  ,  b=-7.3834725019839e+88  , cost=1.4768861568589032e+181 , i = 45\n",
      "m = 4.9027692998596465e+92  ,  b=6.918228980111427e+90  , cost=1.2966284924310824e+185 , i = 46\n",
      "m = -4.5938385555002596e+94  ,  b=-6.482301140607395e+92  , cost=1.1383717286373908e+189 , i = 47\n",
      "m = 4.304373994225029e+96  ,  b=6.073841758970393e+94  , cost=9.994306003033937e+192 , i = 48\n",
      "m = -4.033149023049007e+98  ,  b=-5.69112000704673e+96  , cost=8.774475856128477e+196 , i = 49\n",
      "m = 3.779014338425252e+100  ,  b=5.332514118724415e+98  , cost=7.703529042077515e+200 , i = 50\n",
      "m = -3.540893056123038e+102  ,  b=-4.996504517772638e+100  , cost=6.763293976207482e+204 , i = 51\n",
      "m = 3.317776147979637e+104  ,  b=4.681667378706207e+102  , cost=5.937816961389488e+208 , i = 52\n",
      "m = -3.108718166189119e+106  ,  b=-4.386668593389475e+104  , cost=5.213091489294607e+212 , i = 53\n",
      "m = 2.912833237010043e+108  ,  b=4.110258117813446e+106  , cost=4.5768205811107413e+216 , i = 54\n",
      "m = -2.7292913069155488e+110  ,  b=-3.8512646750908465e+108  , cost=4.0182081351718755e+220 , i = 55\n",
      "m = 2.557314625279079e+112  ,  b=3.608590792223282e+110  , cost=3.5277757411331614e+224 , i = 56\n",
      "m = -2.3961744486912823e+114  ,  b=-3.381208149609062e+112  , cost=3.097201852435974e+228 , i = 57\n",
      "m = 2.2451879529427813e+116  ,  b=3.1681532235853846e+114  , cost=2.7191805881775087e+232 , i = 58\n",
      "m = -2.103715339587469e+118  ,  b=-2.968523203540419e+116  , cost=2.387297768566809e+236 , i = 59\n",
      "m = 1.9711571248255345e+120  ,  b=2.7814721662941635e+118  , cost=2.095922080564669e+240 , i = 60\n",
      "m = -1.8469515992179773e+122  ,  b=-2.606207491537232e+120  , cost=1.840109527030539e+244 , i = 61\n",
      "m = 1.7305724474682703e+124  ,  b=2.441986503138153e+122  , cost=1.615519538090995e+248 , i = 62\n",
      "m = -1.621526518185095e+126  ,  b=-2.288113322086855e+124  , cost=1.4183413213263731e+252 , i = 63\n",
      "m = 1.5193517341756278e+128  ,  b=2.143935917738836e+126  , cost=1.2452292011020746e+256 , i = 64\n",
      "m = -1.4236151344143378e+130  ,  b=-2.0088433448647983e+128  , cost=1.0932458498968773e+260 , i = 65\n",
      "m = 1.3339110393902257e+132  ,  b=1.8822631547978803e+130  , cost=9.598124483901925e+263 , i = 66\n",
      "m = -1.2498593320582444e+134  ,  b=-1.7636589697083224e+132  , cost=8.426649286358364e+267 , i = 67\n",
      "m = 1.1711038471105164e+136  ,  b=1.6525282097266731e+134  , cost=7.398155578663304e+271 , i = 68\n",
      "m = -1.0973108617419513e+138  ,  b=-1.5483999632843285e+136  , cost=6.49519211090368e+275 , i = 69\n",
      "m = 1.028167681514955e+140  ,  b=1.4508329916470608e+138  , cost=5.702437602044571e+279 , i = 70\n",
      "m = -9.633813153308937e+141  ,  b=-1.359413859185839e+140  , cost=5.006440771878509e+283 , i = 71\n",
      "m = 9.026772338935685e+143  ,  b=1.2737551814620527e+142  , cost=4.395392102728275e+287 , i = 72\n",
      "m = -8.457982064037382e+145  ,  b=-1.1934939837034794e+144  , cost=3.8589234582070315e+291 , i = 73\n",
      "m = 7.925032105552447e+147  ,  b=1.1182901627151002e+146  , cost=3.387932159012003e+295 , i = 74\n",
      "m = -7.425664112138921e+149  ,  b=-1.0478250457071987e+148  , cost=2.9744265307093664e+299 , i = 75\n",
      "m = 6.957762034512808e+151  ,  b=9.818000399338293e+149  , cost=2.6113903027998675e+303 , i = 76\n",
      "m = -6.519343158784951e+153  ,  b=-9.199353674195595e+151  , cost=inf , i = 77\n",
      "Using gradient descent function: Coef 6.1085497048006155e+155 Intercept 8.619688794129578e+153\n"
     ]
    },
    {
     "name": "stderr",
     "output_type": "stream",
     "text": [
      "C:\\Users\\tmachine\\AppData\\Local\\Temp\\ipykernel_2436\\82375122.py:10: RuntimeWarning: overflow encountered in double_scalars\n",
      "  cost = (1/n)*sum([val**2 for val in (y-y_predicted)])\n"
     ]
    },
    {
     "ename": "OSError",
     "evalue": "[Errno 22] Invalid argument: 'E:\\\\T-Machine\\test_scores.csv'",
     "output_type": "error",
     "traceback": [
      "\u001b[1;31m---------------------------------------------------------------------------\u001b[0m",
      "\u001b[1;31mOSError\u001b[0m                                   Traceback (most recent call last)",
      "Cell \u001b[1;32mIn[13], line 8\u001b[0m\n\u001b[0;32m      5\u001b[0m m,b\u001b[38;5;241m=\u001b[39mGradient_descent(x,y)\n\u001b[0;32m      6\u001b[0m \u001b[38;5;28mprint\u001b[39m(\u001b[38;5;124m\"\u001b[39m\u001b[38;5;124mUsing gradient descent function: Coef \u001b[39m\u001b[38;5;132;01m{}\u001b[39;00m\u001b[38;5;124m Intercept \u001b[39m\u001b[38;5;132;01m{}\u001b[39;00m\u001b[38;5;124m\"\u001b[39m\u001b[38;5;241m.\u001b[39mformat(m, b))\n\u001b[1;32m----> 8\u001b[0m m_sklearn, b_sklearn \u001b[38;5;241m=\u001b[39m \u001b[43mprediction\u001b[49m\u001b[43m(\u001b[49m\u001b[43m)\u001b[49m\n\u001b[0;32m      9\u001b[0m \u001b[38;5;28mprint\u001b[39m(\u001b[38;5;124m\"\u001b[39m\u001b[38;5;124mUsing sklearn: Coef \u001b[39m\u001b[38;5;132;01m{}\u001b[39;00m\u001b[38;5;124m Intercept \u001b[39m\u001b[38;5;132;01m{}\u001b[39;00m\u001b[38;5;124m\"\u001b[39m\u001b[38;5;241m.\u001b[39mformat(m_sklearn,b_sklearn))\n",
      "Cell \u001b[1;32mIn[8], line 2\u001b[0m, in \u001b[0;36mprediction\u001b[1;34m()\u001b[0m\n\u001b[0;32m      1\u001b[0m \u001b[38;5;28;01mdef\u001b[39;00m \u001b[38;5;21mprediction\u001b[39m():\n\u001b[1;32m----> 2\u001b[0m     df \u001b[38;5;241m=\u001b[39m \u001b[43mpd\u001b[49m\u001b[38;5;241;43m.\u001b[39;49m\u001b[43mread_csv\u001b[49m\u001b[43m(\u001b[49m\u001b[38;5;124;43m\"\u001b[39;49m\u001b[38;5;124;43mE:\u001b[39;49m\u001b[38;5;124;43m\\\u001b[39;49m\u001b[38;5;124;43mT-Machine\u001b[39;49m\u001b[38;5;130;43;01m\\t\u001b[39;49;00m\u001b[38;5;124;43mest_scores.csv\u001b[39;49m\u001b[38;5;124;43m\"\u001b[39;49m\u001b[43m)\u001b[49m\n\u001b[0;32m      3\u001b[0m     re \u001b[38;5;241m=\u001b[39m LinearRegression()\n\u001b[0;32m      4\u001b[0m     re\u001b[38;5;241m.\u001b[39mfit(df[[\u001b[38;5;124m'\u001b[39m\u001b[38;5;124mmath\u001b[39m\u001b[38;5;124m'\u001b[39m]],df\u001b[38;5;241m.\u001b[39mcs)\n",
      "File \u001b[1;32mc:\\Users\\tmachine\\AppData\\Local\\Programs\\Python\\Python39\\lib\\site-packages\\pandas\\io\\parsers\\readers.py:1024\u001b[0m, in \u001b[0;36mread_csv\u001b[1;34m(filepath_or_buffer, sep, delimiter, header, names, index_col, usecols, dtype, engine, converters, true_values, false_values, skipinitialspace, skiprows, skipfooter, nrows, na_values, keep_default_na, na_filter, verbose, skip_blank_lines, parse_dates, infer_datetime_format, keep_date_col, date_parser, date_format, dayfirst, cache_dates, iterator, chunksize, compression, thousands, decimal, lineterminator, quotechar, quoting, doublequote, escapechar, comment, encoding, encoding_errors, dialect, on_bad_lines, delim_whitespace, low_memory, memory_map, float_precision, storage_options, dtype_backend)\u001b[0m\n\u001b[0;32m   1011\u001b[0m kwds_defaults \u001b[38;5;241m=\u001b[39m _refine_defaults_read(\n\u001b[0;32m   1012\u001b[0m     dialect,\n\u001b[0;32m   1013\u001b[0m     delimiter,\n\u001b[1;32m   (...)\u001b[0m\n\u001b[0;32m   1020\u001b[0m     dtype_backend\u001b[38;5;241m=\u001b[39mdtype_backend,\n\u001b[0;32m   1021\u001b[0m )\n\u001b[0;32m   1022\u001b[0m kwds\u001b[38;5;241m.\u001b[39mupdate(kwds_defaults)\n\u001b[1;32m-> 1024\u001b[0m \u001b[38;5;28;01mreturn\u001b[39;00m \u001b[43m_read\u001b[49m\u001b[43m(\u001b[49m\u001b[43mfilepath_or_buffer\u001b[49m\u001b[43m,\u001b[49m\u001b[43m \u001b[49m\u001b[43mkwds\u001b[49m\u001b[43m)\u001b[49m\n",
      "File \u001b[1;32mc:\\Users\\tmachine\\AppData\\Local\\Programs\\Python\\Python39\\lib\\site-packages\\pandas\\io\\parsers\\readers.py:618\u001b[0m, in \u001b[0;36m_read\u001b[1;34m(filepath_or_buffer, kwds)\u001b[0m\n\u001b[0;32m    615\u001b[0m _validate_names(kwds\u001b[38;5;241m.\u001b[39mget(\u001b[38;5;124m\"\u001b[39m\u001b[38;5;124mnames\u001b[39m\u001b[38;5;124m\"\u001b[39m, \u001b[38;5;28;01mNone\u001b[39;00m))\n\u001b[0;32m    617\u001b[0m \u001b[38;5;66;03m# Create the parser.\u001b[39;00m\n\u001b[1;32m--> 618\u001b[0m parser \u001b[38;5;241m=\u001b[39m TextFileReader(filepath_or_buffer, \u001b[38;5;241m*\u001b[39m\u001b[38;5;241m*\u001b[39mkwds)\n\u001b[0;32m    620\u001b[0m \u001b[38;5;28;01mif\u001b[39;00m chunksize \u001b[38;5;129;01mor\u001b[39;00m iterator:\n\u001b[0;32m    621\u001b[0m     \u001b[38;5;28;01mreturn\u001b[39;00m parser\n",
      "File \u001b[1;32mc:\\Users\\tmachine\\AppData\\Local\\Programs\\Python\\Python39\\lib\\site-packages\\pandas\\io\\parsers\\readers.py:1618\u001b[0m, in \u001b[0;36mTextFileReader.__init__\u001b[1;34m(self, f, engine, **kwds)\u001b[0m\n\u001b[0;32m   1615\u001b[0m     \u001b[38;5;28mself\u001b[39m\u001b[38;5;241m.\u001b[39moptions[\u001b[38;5;124m\"\u001b[39m\u001b[38;5;124mhas_index_names\u001b[39m\u001b[38;5;124m\"\u001b[39m] \u001b[38;5;241m=\u001b[39m kwds[\u001b[38;5;124m\"\u001b[39m\u001b[38;5;124mhas_index_names\u001b[39m\u001b[38;5;124m\"\u001b[39m]\n\u001b[0;32m   1617\u001b[0m \u001b[38;5;28mself\u001b[39m\u001b[38;5;241m.\u001b[39mhandles: IOHandles \u001b[38;5;241m|\u001b[39m \u001b[38;5;28;01mNone\u001b[39;00m \u001b[38;5;241m=\u001b[39m \u001b[38;5;28;01mNone\u001b[39;00m\n\u001b[1;32m-> 1618\u001b[0m \u001b[38;5;28mself\u001b[39m\u001b[38;5;241m.\u001b[39m_engine \u001b[38;5;241m=\u001b[39m \u001b[38;5;28;43mself\u001b[39;49m\u001b[38;5;241;43m.\u001b[39;49m\u001b[43m_make_engine\u001b[49m\u001b[43m(\u001b[49m\u001b[43mf\u001b[49m\u001b[43m,\u001b[49m\u001b[43m \u001b[49m\u001b[38;5;28;43mself\u001b[39;49m\u001b[38;5;241;43m.\u001b[39;49m\u001b[43mengine\u001b[49m\u001b[43m)\u001b[49m\n",
      "File \u001b[1;32mc:\\Users\\tmachine\\AppData\\Local\\Programs\\Python\\Python39\\lib\\site-packages\\pandas\\io\\parsers\\readers.py:1878\u001b[0m, in \u001b[0;36mTextFileReader._make_engine\u001b[1;34m(self, f, engine)\u001b[0m\n\u001b[0;32m   1876\u001b[0m     \u001b[38;5;28;01mif\u001b[39;00m \u001b[38;5;124m\"\u001b[39m\u001b[38;5;124mb\u001b[39m\u001b[38;5;124m\"\u001b[39m \u001b[38;5;129;01mnot\u001b[39;00m \u001b[38;5;129;01min\u001b[39;00m mode:\n\u001b[0;32m   1877\u001b[0m         mode \u001b[38;5;241m+\u001b[39m\u001b[38;5;241m=\u001b[39m \u001b[38;5;124m\"\u001b[39m\u001b[38;5;124mb\u001b[39m\u001b[38;5;124m\"\u001b[39m\n\u001b[1;32m-> 1878\u001b[0m \u001b[38;5;28mself\u001b[39m\u001b[38;5;241m.\u001b[39mhandles \u001b[38;5;241m=\u001b[39m \u001b[43mget_handle\u001b[49m\u001b[43m(\u001b[49m\n\u001b[0;32m   1879\u001b[0m \u001b[43m    \u001b[49m\u001b[43mf\u001b[49m\u001b[43m,\u001b[49m\n\u001b[0;32m   1880\u001b[0m \u001b[43m    \u001b[49m\u001b[43mmode\u001b[49m\u001b[43m,\u001b[49m\n\u001b[0;32m   1881\u001b[0m \u001b[43m    \u001b[49m\u001b[43mencoding\u001b[49m\u001b[38;5;241;43m=\u001b[39;49m\u001b[38;5;28;43mself\u001b[39;49m\u001b[38;5;241;43m.\u001b[39;49m\u001b[43moptions\u001b[49m\u001b[38;5;241;43m.\u001b[39;49m\u001b[43mget\u001b[49m\u001b[43m(\u001b[49m\u001b[38;5;124;43m\"\u001b[39;49m\u001b[38;5;124;43mencoding\u001b[39;49m\u001b[38;5;124;43m\"\u001b[39;49m\u001b[43m,\u001b[49m\u001b[43m \u001b[49m\u001b[38;5;28;43;01mNone\u001b[39;49;00m\u001b[43m)\u001b[49m\u001b[43m,\u001b[49m\n\u001b[0;32m   1882\u001b[0m \u001b[43m    \u001b[49m\u001b[43mcompression\u001b[49m\u001b[38;5;241;43m=\u001b[39;49m\u001b[38;5;28;43mself\u001b[39;49m\u001b[38;5;241;43m.\u001b[39;49m\u001b[43moptions\u001b[49m\u001b[38;5;241;43m.\u001b[39;49m\u001b[43mget\u001b[49m\u001b[43m(\u001b[49m\u001b[38;5;124;43m\"\u001b[39;49m\u001b[38;5;124;43mcompression\u001b[39;49m\u001b[38;5;124;43m\"\u001b[39;49m\u001b[43m,\u001b[49m\u001b[43m \u001b[49m\u001b[38;5;28;43;01mNone\u001b[39;49;00m\u001b[43m)\u001b[49m\u001b[43m,\u001b[49m\n\u001b[0;32m   1883\u001b[0m \u001b[43m    \u001b[49m\u001b[43mmemory_map\u001b[49m\u001b[38;5;241;43m=\u001b[39;49m\u001b[38;5;28;43mself\u001b[39;49m\u001b[38;5;241;43m.\u001b[39;49m\u001b[43moptions\u001b[49m\u001b[38;5;241;43m.\u001b[39;49m\u001b[43mget\u001b[49m\u001b[43m(\u001b[49m\u001b[38;5;124;43m\"\u001b[39;49m\u001b[38;5;124;43mmemory_map\u001b[39;49m\u001b[38;5;124;43m\"\u001b[39;49m\u001b[43m,\u001b[49m\u001b[43m \u001b[49m\u001b[38;5;28;43;01mFalse\u001b[39;49;00m\u001b[43m)\u001b[49m\u001b[43m,\u001b[49m\n\u001b[0;32m   1884\u001b[0m \u001b[43m    \u001b[49m\u001b[43mis_text\u001b[49m\u001b[38;5;241;43m=\u001b[39;49m\u001b[43mis_text\u001b[49m\u001b[43m,\u001b[49m\n\u001b[0;32m   1885\u001b[0m \u001b[43m    \u001b[49m\u001b[43merrors\u001b[49m\u001b[38;5;241;43m=\u001b[39;49m\u001b[38;5;28;43mself\u001b[39;49m\u001b[38;5;241;43m.\u001b[39;49m\u001b[43moptions\u001b[49m\u001b[38;5;241;43m.\u001b[39;49m\u001b[43mget\u001b[49m\u001b[43m(\u001b[49m\u001b[38;5;124;43m\"\u001b[39;49m\u001b[38;5;124;43mencoding_errors\u001b[39;49m\u001b[38;5;124;43m\"\u001b[39;49m\u001b[43m,\u001b[49m\u001b[43m \u001b[49m\u001b[38;5;124;43m\"\u001b[39;49m\u001b[38;5;124;43mstrict\u001b[39;49m\u001b[38;5;124;43m\"\u001b[39;49m\u001b[43m)\u001b[49m\u001b[43m,\u001b[49m\n\u001b[0;32m   1886\u001b[0m \u001b[43m    \u001b[49m\u001b[43mstorage_options\u001b[49m\u001b[38;5;241;43m=\u001b[39;49m\u001b[38;5;28;43mself\u001b[39;49m\u001b[38;5;241;43m.\u001b[39;49m\u001b[43moptions\u001b[49m\u001b[38;5;241;43m.\u001b[39;49m\u001b[43mget\u001b[49m\u001b[43m(\u001b[49m\u001b[38;5;124;43m\"\u001b[39;49m\u001b[38;5;124;43mstorage_options\u001b[39;49m\u001b[38;5;124;43m\"\u001b[39;49m\u001b[43m,\u001b[49m\u001b[43m \u001b[49m\u001b[38;5;28;43;01mNone\u001b[39;49;00m\u001b[43m)\u001b[49m\u001b[43m,\u001b[49m\n\u001b[0;32m   1887\u001b[0m \u001b[43m\u001b[49m\u001b[43m)\u001b[49m\n\u001b[0;32m   1888\u001b[0m \u001b[38;5;28;01massert\u001b[39;00m \u001b[38;5;28mself\u001b[39m\u001b[38;5;241m.\u001b[39mhandles \u001b[38;5;129;01mis\u001b[39;00m \u001b[38;5;129;01mnot\u001b[39;00m \u001b[38;5;28;01mNone\u001b[39;00m\n\u001b[0;32m   1889\u001b[0m f \u001b[38;5;241m=\u001b[39m \u001b[38;5;28mself\u001b[39m\u001b[38;5;241m.\u001b[39mhandles\u001b[38;5;241m.\u001b[39mhandle\n",
      "File \u001b[1;32mc:\\Users\\tmachine\\AppData\\Local\\Programs\\Python\\Python39\\lib\\site-packages\\pandas\\io\\common.py:873\u001b[0m, in \u001b[0;36mget_handle\u001b[1;34m(path_or_buf, mode, encoding, compression, memory_map, is_text, errors, storage_options)\u001b[0m\n\u001b[0;32m    868\u001b[0m \u001b[38;5;28;01melif\u001b[39;00m \u001b[38;5;28misinstance\u001b[39m(handle, \u001b[38;5;28mstr\u001b[39m):\n\u001b[0;32m    869\u001b[0m     \u001b[38;5;66;03m# Check whether the filename is to be opened in binary mode.\u001b[39;00m\n\u001b[0;32m    870\u001b[0m     \u001b[38;5;66;03m# Binary mode does not support 'encoding' and 'newline'.\u001b[39;00m\n\u001b[0;32m    871\u001b[0m     \u001b[38;5;28;01mif\u001b[39;00m ioargs\u001b[38;5;241m.\u001b[39mencoding \u001b[38;5;129;01mand\u001b[39;00m \u001b[38;5;124m\"\u001b[39m\u001b[38;5;124mb\u001b[39m\u001b[38;5;124m\"\u001b[39m \u001b[38;5;129;01mnot\u001b[39;00m \u001b[38;5;129;01min\u001b[39;00m ioargs\u001b[38;5;241m.\u001b[39mmode:\n\u001b[0;32m    872\u001b[0m         \u001b[38;5;66;03m# Encoding\u001b[39;00m\n\u001b[1;32m--> 873\u001b[0m         handle \u001b[38;5;241m=\u001b[39m \u001b[38;5;28;43mopen\u001b[39;49m\u001b[43m(\u001b[49m\n\u001b[0;32m    874\u001b[0m \u001b[43m            \u001b[49m\u001b[43mhandle\u001b[49m\u001b[43m,\u001b[49m\n\u001b[0;32m    875\u001b[0m \u001b[43m            \u001b[49m\u001b[43mioargs\u001b[49m\u001b[38;5;241;43m.\u001b[39;49m\u001b[43mmode\u001b[49m\u001b[43m,\u001b[49m\n\u001b[0;32m    876\u001b[0m \u001b[43m            \u001b[49m\u001b[43mencoding\u001b[49m\u001b[38;5;241;43m=\u001b[39;49m\u001b[43mioargs\u001b[49m\u001b[38;5;241;43m.\u001b[39;49m\u001b[43mencoding\u001b[49m\u001b[43m,\u001b[49m\n\u001b[0;32m    877\u001b[0m \u001b[43m            \u001b[49m\u001b[43merrors\u001b[49m\u001b[38;5;241;43m=\u001b[39;49m\u001b[43merrors\u001b[49m\u001b[43m,\u001b[49m\n\u001b[0;32m    878\u001b[0m \u001b[43m            \u001b[49m\u001b[43mnewline\u001b[49m\u001b[38;5;241;43m=\u001b[39;49m\u001b[38;5;124;43m\"\u001b[39;49m\u001b[38;5;124;43m\"\u001b[39;49m\u001b[43m,\u001b[49m\n\u001b[0;32m    879\u001b[0m \u001b[43m        \u001b[49m\u001b[43m)\u001b[49m\n\u001b[0;32m    880\u001b[0m     \u001b[38;5;28;01melse\u001b[39;00m:\n\u001b[0;32m    881\u001b[0m         \u001b[38;5;66;03m# Binary mode\u001b[39;00m\n\u001b[0;32m    882\u001b[0m         handle \u001b[38;5;241m=\u001b[39m \u001b[38;5;28mopen\u001b[39m(handle, ioargs\u001b[38;5;241m.\u001b[39mmode)\n",
      "\u001b[1;31mOSError\u001b[0m: [Errno 22] Invalid argument: 'E:\\\\T-Machine\\test_scores.csv'"
     ]
    }
   ],
   "source": [
    "if __name__ == \"__main__\":\n",
    "    df = pd.read_csv(\"E:/T-Machine/test_scores.csv\")\n",
    "    x=np.array(df.math)\n",
    "    y=np.array(df.cs)\n",
    "    m,b=Gradient_descent(x,y)\n",
    "    print(\"Using gradient descent function: Coef {} Intercept {}\".format(m, b))\n",
    "\n",
    "    m_sklearn, b_sklearn = prediction()\n",
    "    print(\"Using sklearn: Coef {} Intercept {}\".format(m_sklearn,b_sklearn))\n"
   ]
  },
  {
   "cell_type": "code",
   "execution_count": null,
   "metadata": {},
   "outputs": [],
   "source": []
  }
 ],
 "metadata": {
  "kernelspec": {
   "display_name": "Python 3",
   "language": "python",
   "name": "python3"
  },
  "language_info": {
   "codemirror_mode": {
    "name": "ipython",
    "version": 3
   },
   "file_extension": ".py",
   "mimetype": "text/x-python",
   "name": "python",
   "nbconvert_exporter": "python",
   "pygments_lexer": "ipython3",
   "version": "3.9.0"
  }
 },
 "nbformat": 4,
 "nbformat_minor": 2
}
