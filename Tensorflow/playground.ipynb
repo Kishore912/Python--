{
 "cells": [
  {
   "cell_type": "code",
   "execution_count": 1,
   "metadata": {},
   "outputs": [
    {
     "name": "stdout",
     "output_type": "stream",
     "text": [
      "WARNING:tensorflow:From c:\\Users\\Preethi\\AppData\\Local\\Programs\\Python\\Python39\\lib\\site-packages\\keras\\src\\losses.py:2976: The name tf.losses.sparse_softmax_cross_entropy is deprecated. Please use tf.compat.v1.losses.sparse_softmax_cross_entropy instead.\n",
      "\n",
      "<module 'tensorflow._api.v2.version' from 'c:\\\\Users\\\\Preethi\\\\AppData\\\\Local\\\\Programs\\\\Python\\\\Python39\\\\lib\\\\site-packages\\\\tensorflow\\\\_api\\\\v2\\\\version\\\\__init__.py'>\n"
     ]
    }
   ],
   "source": [
    "\n",
    "import tensorflow as tf\n",
    "print(tf.version)"
   ]
  },
  {
   "cell_type": "markdown",
   "metadata": {},
   "source": [
    "INTRODUCTION TO TENSORS\n",
    "\n",
    "https://colab.research.google.com/drive/1F_EWVKa8rbMXi3_fG0w7AtcscFq7Hi7B#forceEdit=true&sandboxMode=true&scrollTo=TAk6QhGUwQRt"
   ]
  },
  {
   "cell_type": "code",
   "execution_count": 2,
   "metadata": {},
   "outputs": [
    {
     "name": "stdout",
     "output_type": "stream",
     "text": [
      "<tf.Variable 'Variable:0' shape=() dtype=int32, numpy=234>\n",
      "<tf.Variable 'Variable:0' shape=() dtype=string, numpy=b'this is kishore'>\n",
      "<tf.Variable 'Variable:0' shape=() dtype=float32, numpy=2.234>\n"
     ]
    }
   ],
   "source": [
    "string=tf.Variable(\"this is kishore\",tf.string)    #creating tensors\n",
    "number=tf.Variable(234,tf.int64)\n",
    "floatingpoint=tf.Variable(2.234,tf.float64)\n",
    "print(number)\n",
    "print(string)\n",
    "print(floatingpoint)"
   ]
  },
  {
   "cell_type": "code",
   "execution_count": 3,
   "metadata": {},
   "outputs": [
    {
     "name": "stdout",
     "output_type": "stream",
     "text": [
      "tf.Tensor(0, shape=(), dtype=int32)\n",
      "tf.Tensor(1, shape=(), dtype=int32)\n",
      "tf.Tensor(2, shape=(), dtype=int32)\n",
      "tf.Tensor(3, shape=(), dtype=int32)\n"
     ]
    }
   ],
   "source": [
    "#Rank/Degree\n",
    "rank1 = tf.Variable([12],tf.int64)\n",
    "rank2 = tf.Variable([['apple'],['orange']],tf.string)\n",
    "rank3 = tf.Variable([[[12],[23]],[[45],[56]]],tf.int64)\n",
    "print(tf.rank(string))\n",
    "print(tf.rank(rank1))\n",
    "print(tf.rank(rank2))\n",
    "print(tf.rank(rank3))"
   ]
  },
  {
   "cell_type": "code",
   "execution_count": 4,
   "metadata": {},
   "outputs": [
    {
     "name": "stdout",
     "output_type": "stream",
     "text": [
      "(1,)\n",
      "(2, 1)\n",
      "(2, 2, 1)\n"
     ]
    }
   ],
   "source": [
    "print(rank1.shape)\n",
    "print(rank2.shape)\n",
    "print(rank3.shape)\n"
   ]
  },
  {
   "cell_type": "code",
   "execution_count": 5,
   "metadata": {},
   "outputs": [
    {
     "name": "stdout",
     "output_type": "stream",
     "text": [
      "tf.Tensor(\n",
      "[[[1. 1. 1.]\n",
      "  [1. 1. 1.]]], shape=(1, 2, 3), dtype=float32)\n",
      "tf.Tensor(\n",
      "[[[1.]\n",
      "  [1.]\n",
      "  [1.]]\n",
      "\n",
      " [[1.]\n",
      "  [1.]\n",
      "  [1.]]], shape=(2, 3, 1), dtype=float32)\n",
      "tf.Tensor(3, shape=(), dtype=int32)\n",
      "tf.Tensor(\n",
      "[[1. 1.]\n",
      " [1. 1.]\n",
      " [1. 1.]], shape=(3, 2), dtype=float32)\n"
     ]
    }
   ],
   "source": [
    "tensor1=tf.ones([1,2,3])\n",
    "tensor2=tf.reshape(tensor1,[2,3,1])\n",
    "tensor3=tf.reshape(tensor2,[3,-1])\n",
    "print(tensor1)\n",
    "print(tensor2)\n",
    "print(tf.rank(tensor2))\n",
    "print(tensor3)\n",
    "\n",
    "# In this case, the product of the dimensions [2, 3, 1] in tensor2 is 2 * 3 * 1 = 6. Since you specified the first dimension as 3 in tensor3,\n",
    "# TensorFlow infers the size of the second dimension as 6 / 3 = 2. Therefore, the resulting dimensions of tensor3 are [3, 2]."
   ]
  },
  {
   "cell_type": "code",
   "execution_count": 6,
   "metadata": {},
   "outputs": [
    {
     "name": "stdout",
     "output_type": "stream",
     "text": [
      "1.26.4\n"
     ]
    }
   ],
   "source": [
    "import numpy as np\n",
    "print(np.__version__)"
   ]
  }
 ],
 "metadata": {
  "kernelspec": {
   "display_name": "Python 3",
   "language": "python",
   "name": "python3"
  },
  "language_info": {
   "codemirror_mode": {
    "name": "ipython",
    "version": 3
   },
   "file_extension": ".py",
   "mimetype": "text/x-python",
   "name": "python",
   "nbconvert_exporter": "python",
   "pygments_lexer": "ipython3",
   "version": "3.9.0"
  }
 },
 "nbformat": 4,
 "nbformat_minor": 2
}
