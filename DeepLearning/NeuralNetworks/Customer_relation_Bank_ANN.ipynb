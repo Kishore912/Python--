{
 "cells": [
  {
   "cell_type": "markdown",
   "metadata": {},
   "source": [
    "## Artificial Neural Networks"
   ]
  },
  {
   "cell_type": "markdown",
   "metadata": {},
   "source": [
    "### Importing the dataset"
   ]
  },
  {
   "cell_type": "code",
   "execution_count": 204,
   "metadata": {},
   "outputs": [],
   "source": [
    "import numpy as np\n",
    "import pandas as pd\n",
    "import tensorflow as tf"
   ]
  },
  {
   "cell_type": "code",
   "execution_count": 205,
   "metadata": {},
   "outputs": [
    {
     "data": {
      "text/plain": [
       "'2.15.1'"
      ]
     },
     "execution_count": 205,
     "metadata": {},
     "output_type": "execute_result"
    }
   ],
   "source": [
    "tf.__version__"
   ]
  },
  {
   "cell_type": "code",
   "execution_count": 206,
   "metadata": {},
   "outputs": [],
   "source": [
    "dataset = pd.read_csv(\"E:\\T-Machine\\python\\Churn_Modelling.csv\")\n"
   ]
  },
  {
   "cell_type": "code",
   "execution_count": 207,
   "metadata": {},
   "outputs": [
    {
     "data": {
      "text/html": [
       "<div>\n",
       "<style scoped>\n",
       "    .dataframe tbody tr th:only-of-type {\n",
       "        vertical-align: middle;\n",
       "    }\n",
       "\n",
       "    .dataframe tbody tr th {\n",
       "        vertical-align: top;\n",
       "    }\n",
       "\n",
       "    .dataframe thead th {\n",
       "        text-align: right;\n",
       "    }\n",
       "</style>\n",
       "<table border=\"1\" class=\"dataframe\">\n",
       "  <thead>\n",
       "    <tr style=\"text-align: right;\">\n",
       "      <th></th>\n",
       "      <th>RowNumber</th>\n",
       "      <th>CustomerId</th>\n",
       "      <th>Surname</th>\n",
       "      <th>CreditScore</th>\n",
       "      <th>Geography</th>\n",
       "      <th>Gender</th>\n",
       "      <th>Age</th>\n",
       "      <th>Tenure</th>\n",
       "      <th>Balance</th>\n",
       "      <th>NumOfProducts</th>\n",
       "      <th>HasCrCard</th>\n",
       "      <th>IsActiveMember</th>\n",
       "      <th>EstimatedSalary</th>\n",
       "      <th>Exited</th>\n",
       "    </tr>\n",
       "  </thead>\n",
       "  <tbody>\n",
       "    <tr>\n",
       "      <th>0</th>\n",
       "      <td>1</td>\n",
       "      <td>15634602</td>\n",
       "      <td>Hargrave</td>\n",
       "      <td>619</td>\n",
       "      <td>France</td>\n",
       "      <td>Female</td>\n",
       "      <td>42</td>\n",
       "      <td>2</td>\n",
       "      <td>0.00</td>\n",
       "      <td>1</td>\n",
       "      <td>1</td>\n",
       "      <td>1</td>\n",
       "      <td>101348.88</td>\n",
       "      <td>1</td>\n",
       "    </tr>\n",
       "    <tr>\n",
       "      <th>1</th>\n",
       "      <td>2</td>\n",
       "      <td>15647311</td>\n",
       "      <td>Hill</td>\n",
       "      <td>608</td>\n",
       "      <td>Spain</td>\n",
       "      <td>Female</td>\n",
       "      <td>41</td>\n",
       "      <td>1</td>\n",
       "      <td>83807.86</td>\n",
       "      <td>1</td>\n",
       "      <td>0</td>\n",
       "      <td>1</td>\n",
       "      <td>112542.58</td>\n",
       "      <td>0</td>\n",
       "    </tr>\n",
       "    <tr>\n",
       "      <th>2</th>\n",
       "      <td>3</td>\n",
       "      <td>15619304</td>\n",
       "      <td>Onio</td>\n",
       "      <td>502</td>\n",
       "      <td>France</td>\n",
       "      <td>Female</td>\n",
       "      <td>42</td>\n",
       "      <td>8</td>\n",
       "      <td>159660.80</td>\n",
       "      <td>3</td>\n",
       "      <td>1</td>\n",
       "      <td>0</td>\n",
       "      <td>113931.57</td>\n",
       "      <td>1</td>\n",
       "    </tr>\n",
       "    <tr>\n",
       "      <th>3</th>\n",
       "      <td>4</td>\n",
       "      <td>15701354</td>\n",
       "      <td>Boni</td>\n",
       "      <td>699</td>\n",
       "      <td>France</td>\n",
       "      <td>Female</td>\n",
       "      <td>39</td>\n",
       "      <td>1</td>\n",
       "      <td>0.00</td>\n",
       "      <td>2</td>\n",
       "      <td>0</td>\n",
       "      <td>0</td>\n",
       "      <td>93826.63</td>\n",
       "      <td>0</td>\n",
       "    </tr>\n",
       "    <tr>\n",
       "      <th>4</th>\n",
       "      <td>5</td>\n",
       "      <td>15737888</td>\n",
       "      <td>Mitchell</td>\n",
       "      <td>850</td>\n",
       "      <td>Spain</td>\n",
       "      <td>Female</td>\n",
       "      <td>43</td>\n",
       "      <td>2</td>\n",
       "      <td>125510.82</td>\n",
       "      <td>1</td>\n",
       "      <td>1</td>\n",
       "      <td>1</td>\n",
       "      <td>79084.10</td>\n",
       "      <td>0</td>\n",
       "    </tr>\n",
       "    <tr>\n",
       "      <th>5</th>\n",
       "      <td>6</td>\n",
       "      <td>15574012</td>\n",
       "      <td>Chu</td>\n",
       "      <td>645</td>\n",
       "      <td>Spain</td>\n",
       "      <td>Male</td>\n",
       "      <td>44</td>\n",
       "      <td>8</td>\n",
       "      <td>113755.78</td>\n",
       "      <td>2</td>\n",
       "      <td>1</td>\n",
       "      <td>0</td>\n",
       "      <td>149756.71</td>\n",
       "      <td>1</td>\n",
       "    </tr>\n",
       "    <tr>\n",
       "      <th>6</th>\n",
       "      <td>7</td>\n",
       "      <td>15592531</td>\n",
       "      <td>Bartlett</td>\n",
       "      <td>822</td>\n",
       "      <td>France</td>\n",
       "      <td>Male</td>\n",
       "      <td>50</td>\n",
       "      <td>7</td>\n",
       "      <td>0.00</td>\n",
       "      <td>2</td>\n",
       "      <td>1</td>\n",
       "      <td>1</td>\n",
       "      <td>10062.80</td>\n",
       "      <td>0</td>\n",
       "    </tr>\n",
       "    <tr>\n",
       "      <th>7</th>\n",
       "      <td>8</td>\n",
       "      <td>15656148</td>\n",
       "      <td>Obinna</td>\n",
       "      <td>376</td>\n",
       "      <td>Germany</td>\n",
       "      <td>Female</td>\n",
       "      <td>29</td>\n",
       "      <td>4</td>\n",
       "      <td>115046.74</td>\n",
       "      <td>4</td>\n",
       "      <td>1</td>\n",
       "      <td>0</td>\n",
       "      <td>119346.88</td>\n",
       "      <td>1</td>\n",
       "    </tr>\n",
       "    <tr>\n",
       "      <th>8</th>\n",
       "      <td>9</td>\n",
       "      <td>15792365</td>\n",
       "      <td>He</td>\n",
       "      <td>501</td>\n",
       "      <td>France</td>\n",
       "      <td>Male</td>\n",
       "      <td>44</td>\n",
       "      <td>4</td>\n",
       "      <td>142051.07</td>\n",
       "      <td>2</td>\n",
       "      <td>0</td>\n",
       "      <td>1</td>\n",
       "      <td>74940.50</td>\n",
       "      <td>0</td>\n",
       "    </tr>\n",
       "    <tr>\n",
       "      <th>9</th>\n",
       "      <td>10</td>\n",
       "      <td>15592389</td>\n",
       "      <td>H?</td>\n",
       "      <td>684</td>\n",
       "      <td>France</td>\n",
       "      <td>Male</td>\n",
       "      <td>27</td>\n",
       "      <td>2</td>\n",
       "      <td>134603.88</td>\n",
       "      <td>1</td>\n",
       "      <td>1</td>\n",
       "      <td>1</td>\n",
       "      <td>71725.73</td>\n",
       "      <td>0</td>\n",
       "    </tr>\n",
       "  </tbody>\n",
       "</table>\n",
       "</div>"
      ],
      "text/plain": [
       "   RowNumber  CustomerId   Surname  CreditScore Geography  Gender  Age  \\\n",
       "0          1    15634602  Hargrave          619    France  Female   42   \n",
       "1          2    15647311      Hill          608     Spain  Female   41   \n",
       "2          3    15619304      Onio          502    France  Female   42   \n",
       "3          4    15701354      Boni          699    France  Female   39   \n",
       "4          5    15737888  Mitchell          850     Spain  Female   43   \n",
       "5          6    15574012       Chu          645     Spain    Male   44   \n",
       "6          7    15592531  Bartlett          822    France    Male   50   \n",
       "7          8    15656148    Obinna          376   Germany  Female   29   \n",
       "8          9    15792365        He          501    France    Male   44   \n",
       "9         10    15592389        H?          684    France    Male   27   \n",
       "\n",
       "   Tenure    Balance  NumOfProducts  HasCrCard  IsActiveMember  \\\n",
       "0       2       0.00              1          1               1   \n",
       "1       1   83807.86              1          0               1   \n",
       "2       8  159660.80              3          1               0   \n",
       "3       1       0.00              2          0               0   \n",
       "4       2  125510.82              1          1               1   \n",
       "5       8  113755.78              2          1               0   \n",
       "6       7       0.00              2          1               1   \n",
       "7       4  115046.74              4          1               0   \n",
       "8       4  142051.07              2          0               1   \n",
       "9       2  134603.88              1          1               1   \n",
       "\n",
       "   EstimatedSalary  Exited  \n",
       "0        101348.88       1  \n",
       "1        112542.58       0  \n",
       "2        113931.57       1  \n",
       "3         93826.63       0  \n",
       "4         79084.10       0  \n",
       "5        149756.71       1  \n",
       "6         10062.80       0  \n",
       "7        119346.88       1  \n",
       "8         74940.50       0  \n",
       "9         71725.73       0  "
      ]
     },
     "execution_count": 207,
     "metadata": {},
     "output_type": "execute_result"
    }
   ],
   "source": [
    "dataset.head(10)"
   ]
  },
  {
   "cell_type": "code",
   "execution_count": 208,
   "metadata": {},
   "outputs": [],
   "source": [
    "X = dataset.iloc[:, 3:-1].values\n",
    "y = dataset.iloc[:, -1].values"
   ]
  },
  {
   "cell_type": "code",
   "execution_count": 209,
   "metadata": {},
   "outputs": [
    {
     "data": {
      "text/plain": [
       "array([[619, 'France', 'Female', ..., 1, 1, 101348.88],\n",
       "       [608, 'Spain', 'Female', ..., 0, 1, 112542.58],\n",
       "       [502, 'France', 'Female', ..., 1, 0, 113931.57],\n",
       "       ...,\n",
       "       [709, 'France', 'Female', ..., 0, 1, 42085.58],\n",
       "       [772, 'Germany', 'Male', ..., 1, 0, 92888.52],\n",
       "       [792, 'France', 'Female', ..., 1, 0, 38190.78]], dtype=object)"
      ]
     },
     "execution_count": 209,
     "metadata": {},
     "output_type": "execute_result"
    }
   ],
   "source": [
    "X"
   ]
  },
  {
   "cell_type": "code",
   "execution_count": 210,
   "metadata": {},
   "outputs": [
    {
     "data": {
      "text/plain": [
       "array([1, 0, 1, ..., 1, 1, 0], dtype=int64)"
      ]
     },
     "execution_count": 210,
     "metadata": {},
     "output_type": "execute_result"
    }
   ],
   "source": [
    "y"
   ]
  },
  {
   "cell_type": "markdown",
   "metadata": {},
   "source": [
    "## Encoding Categorical Data"
   ]
  },
  {
   "cell_type": "markdown",
   "metadata": {},
   "source": [
    "#### Label encodding the Gender column"
   ]
  },
  {
   "cell_type": "code",
   "execution_count": 211,
   "metadata": {},
   "outputs": [],
   "source": [
    "from sklearn.preprocessing import LabelEncoder\n",
    "le = LabelEncoder()\n",
    "X[:, 2] = le.fit_transform(X[:, 2])"
   ]
  },
  {
   "cell_type": "code",
   "execution_count": 212,
   "metadata": {},
   "outputs": [
    {
     "data": {
      "text/plain": [
       "array([[619, 'France', 0, ..., 1, 1, 101348.88],\n",
       "       [608, 'Spain', 0, ..., 0, 1, 112542.58],\n",
       "       [502, 'France', 0, ..., 1, 0, 113931.57],\n",
       "       ...,\n",
       "       [709, 'France', 0, ..., 0, 1, 42085.58],\n",
       "       [772, 'Germany', 1, ..., 1, 0, 92888.52],\n",
       "       [792, 'France', 0, ..., 1, 0, 38190.78]], dtype=object)"
      ]
     },
     "execution_count": 212,
     "metadata": {},
     "output_type": "execute_result"
    }
   ],
   "source": [
    "X"
   ]
  },
  {
   "cell_type": "markdown",
   "metadata": {},
   "source": [
    "### One Hot encoding the \"Geograpy\" column"
   ]
  },
  {
   "cell_type": "code",
   "execution_count": 213,
   "metadata": {},
   "outputs": [],
   "source": [
    "from sklearn.compose import ColumnTransformer\n",
    "from sklearn.preprocessing import OneHotEncoder\n",
    "ct = ColumnTransformer(transformers=[('encoder', OneHotEncoder(), [1])], remainder='passthrough')\n",
    "X = np.array(ct.fit_transform(X))"
   ]
  },
  {
   "cell_type": "code",
   "execution_count": 214,
   "metadata": {},
   "outputs": [
    {
     "data": {
      "text/plain": [
       "array([[1.0, 0.0, 0.0, ..., 1, 1, 101348.88],\n",
       "       [0.0, 0.0, 1.0, ..., 0, 1, 112542.58],\n",
       "       [1.0, 0.0, 0.0, ..., 1, 0, 113931.57],\n",
       "       ...,\n",
       "       [1.0, 0.0, 0.0, ..., 0, 1, 42085.58],\n",
       "       [0.0, 1.0, 0.0, ..., 1, 0, 92888.52],\n",
       "       [1.0, 0.0, 0.0, ..., 1, 0, 38190.78]], dtype=object)"
      ]
     },
     "execution_count": 214,
     "metadata": {},
     "output_type": "execute_result"
    }
   ],
   "source": [
    "X"
   ]
  },
  {
   "cell_type": "markdown",
   "metadata": {},
   "source": [
    "### Splitting the dataset into Trainig set and Testing set"
   ]
  },
  {
   "cell_type": "code",
   "execution_count": 215,
   "metadata": {},
   "outputs": [],
   "source": [
    "from sklearn.model_selection import train_test_split\n",
    "X_train, X_test, y_train, y_test = train_test_split(X, y, test_size = 0.2, random_state = 0)"
   ]
  },
  {
   "cell_type": "code",
   "execution_count": 216,
   "metadata": {},
   "outputs": [
    {
     "name": "stdout",
     "output_type": "stream",
     "text": [
      "(8000, 12)\n",
      "(2000, 12)\n",
      "(8000,)\n",
      "(2000,)\n"
     ]
    }
   ],
   "source": [
    "print(X_train.shape)\n",
    "print(X_test.shape)\n",
    "print(y_train.shape)\n",
    "print(y_test.shape)"
   ]
  },
  {
   "cell_type": "markdown",
   "metadata": {},
   "source": [
    "## Feature Scaling\n",
    "##### Whenever you are creating a Artificial Neural Network it is necessary to do a feature scaling it is fundamental"
   ]
  },
  {
   "cell_type": "code",
   "execution_count": 217,
   "metadata": {},
   "outputs": [],
   "source": [
    "from sklearn.preprocessing import StandardScaler\n",
    "sc = StandardScaler()\n",
    "X_train = sc.fit_transform(X_train)\n",
    "X_test = sc.transform(X_test)"
   ]
  },
  {
   "cell_type": "markdown",
   "metadata": {},
   "source": [
    "# Building the ANN"
   ]
  },
  {
   "cell_type": "markdown",
   "metadata": {},
   "source": [
    "#### Initializing the ANN"
   ]
  },
  {
   "cell_type": "code",
   "execution_count": 218,
   "metadata": {},
   "outputs": [],
   "source": [
    "ann = tf.keras.models.Sequential()"
   ]
  },
  {
   "cell_type": "markdown",
   "metadata": {},
   "source": [
    "#### Adding the input layer and the first hidden layer"
   ]
  },
  {
   "cell_type": "code",
   "execution_count": 219,
   "metadata": {},
   "outputs": [],
   "source": [
    "ann.add(tf.keras.layers.Dense(units=6, activation='relu'))"
   ]
  },
  {
   "cell_type": "markdown",
   "metadata": {},
   "source": [
    "#### Adding the second hidden layer"
   ]
  },
  {
   "cell_type": "code",
   "execution_count": 220,
   "metadata": {},
   "outputs": [],
   "source": [
    "ann.add(tf.keras.layers.Dense(units=6, activation='relu'))"
   ]
  },
  {
   "cell_type": "markdown",
   "metadata": {},
   "source": [
    "#### Adding the output layer"
   ]
  },
  {
   "cell_type": "code",
   "execution_count": 221,
   "metadata": {},
   "outputs": [],
   "source": [
    "ann.add(tf.keras.layers.Dense(units=1, activation='sigmoid'))"
   ]
  },
  {
   "cell_type": "markdown",
   "metadata": {},
   "source": [
    "# Training the ANN"
   ]
  },
  {
   "cell_type": "markdown",
   "metadata": {},
   "source": [
    "##### compiling the ANN"
   ]
  },
  {
   "cell_type": "code",
   "execution_count": 222,
   "metadata": {},
   "outputs": [],
   "source": [
    "ann.compile(optimizer = 'adam', loss = 'binary_crossentropy', metrics = ['accuracy'])"
   ]
  },
  {
   "cell_type": "markdown",
   "metadata": {},
   "source": [
    "#### Training the ANN on the Training set"
   ]
  },
  {
   "cell_type": "code",
   "execution_count": 223,
   "metadata": {},
   "outputs": [
    {
     "name": "stdout",
     "output_type": "stream",
     "text": [
      "Epoch 1/100\n"
     ]
    },
    {
     "name": "stdout",
     "output_type": "stream",
     "text": [
      "250/250 [==============================] - 1s 825us/step - loss: 0.6612 - accuracy: 0.6459\n",
      "Epoch 2/100\n",
      "250/250 [==============================] - 0s 800us/step - loss: 0.4818 - accuracy: 0.8114\n",
      "Epoch 3/100\n",
      "250/250 [==============================] - 0s 702us/step - loss: 0.4459 - accuracy: 0.8177\n",
      "Epoch 4/100\n",
      "250/250 [==============================] - 0s 731us/step - loss: 0.4333 - accuracy: 0.8204\n",
      "Epoch 5/100\n",
      "250/250 [==============================] - 0s 738us/step - loss: 0.4265 - accuracy: 0.8219\n",
      "Epoch 6/100\n",
      "250/250 [==============================] - 0s 730us/step - loss: 0.4209 - accuracy: 0.8264\n",
      "Epoch 7/100\n",
      "250/250 [==============================] - 0s 757us/step - loss: 0.4158 - accuracy: 0.8274\n",
      "Epoch 8/100\n",
      "250/250 [==============================] - 0s 768us/step - loss: 0.4113 - accuracy: 0.8311\n",
      "Epoch 9/100\n",
      "250/250 [==============================] - 0s 705us/step - loss: 0.4065 - accuracy: 0.8325\n",
      "Epoch 10/100\n",
      "250/250 [==============================] - 0s 753us/step - loss: 0.4008 - accuracy: 0.8361\n",
      "Epoch 11/100\n",
      "250/250 [==============================] - 0s 712us/step - loss: 0.3936 - accuracy: 0.8386\n",
      "Epoch 12/100\n",
      "250/250 [==============================] - 0s 737us/step - loss: 0.3858 - accuracy: 0.8419\n",
      "Epoch 13/100\n",
      "250/250 [==============================] - 0s 699us/step - loss: 0.3764 - accuracy: 0.8444\n",
      "Epoch 14/100\n",
      "250/250 [==============================] - 0s 741us/step - loss: 0.3669 - accuracy: 0.8524\n",
      "Epoch 15/100\n",
      "250/250 [==============================] - 0s 773us/step - loss: 0.3593 - accuracy: 0.8533\n",
      "Epoch 16/100\n",
      "250/250 [==============================] - 0s 712us/step - loss: 0.3528 - accuracy: 0.8565\n",
      "Epoch 17/100\n",
      "250/250 [==============================] - 0s 681us/step - loss: 0.3483 - accuracy: 0.8587\n",
      "Epoch 18/100\n",
      "250/250 [==============================] - 0s 698us/step - loss: 0.3456 - accuracy: 0.8596\n",
      "Epoch 19/100\n",
      "250/250 [==============================] - 0s 726us/step - loss: 0.3435 - accuracy: 0.8605\n",
      "Epoch 20/100\n",
      "250/250 [==============================] - 0s 740us/step - loss: 0.3423 - accuracy: 0.8605\n",
      "Epoch 21/100\n",
      "250/250 [==============================] - 0s 695us/step - loss: 0.3413 - accuracy: 0.8606\n",
      "Epoch 22/100\n",
      "250/250 [==============================] - 0s 708us/step - loss: 0.3405 - accuracy: 0.8644\n",
      "Epoch 23/100\n",
      "250/250 [==============================] - 0s 689us/step - loss: 0.3398 - accuracy: 0.8626\n",
      "Epoch 24/100\n",
      "250/250 [==============================] - 0s 917us/step - loss: 0.3397 - accuracy: 0.8629\n",
      "Epoch 25/100\n",
      "250/250 [==============================] - 0s 819us/step - loss: 0.3389 - accuracy: 0.8630\n",
      "Epoch 26/100\n",
      "250/250 [==============================] - 0s 730us/step - loss: 0.3383 - accuracy: 0.8621\n",
      "Epoch 27/100\n",
      "250/250 [==============================] - 0s 758us/step - loss: 0.3381 - accuracy: 0.8615\n",
      "Epoch 28/100\n",
      "250/250 [==============================] - 0s 769us/step - loss: 0.3378 - accuracy: 0.8630\n",
      "Epoch 29/100\n",
      "250/250 [==============================] - 0s 697us/step - loss: 0.3371 - accuracy: 0.8624\n",
      "Epoch 30/100\n",
      "250/250 [==============================] - 0s 749us/step - loss: 0.3368 - accuracy: 0.8624\n",
      "Epoch 31/100\n",
      "250/250 [==============================] - 0s 696us/step - loss: 0.3363 - accuracy: 0.8636\n",
      "Epoch 32/100\n",
      "250/250 [==============================] - 0s 731us/step - loss: 0.3363 - accuracy: 0.8627\n",
      "Epoch 33/100\n",
      "250/250 [==============================] - 0s 687us/step - loss: 0.3355 - accuracy: 0.8627\n",
      "Epoch 34/100\n",
      "250/250 [==============================] - 0s 698us/step - loss: 0.3356 - accuracy: 0.8621\n",
      "Epoch 35/100\n",
      "250/250 [==============================] - 0s 728us/step - loss: 0.3355 - accuracy: 0.8618\n",
      "Epoch 36/100\n",
      "250/250 [==============================] - 0s 668us/step - loss: 0.3348 - accuracy: 0.8609\n",
      "Epoch 37/100\n",
      "250/250 [==============================] - 0s 745us/step - loss: 0.3350 - accuracy: 0.8637\n",
      "Epoch 38/100\n",
      "250/250 [==============================] - 0s 729us/step - loss: 0.3348 - accuracy: 0.8611\n",
      "Epoch 39/100\n",
      "250/250 [==============================] - 0s 717us/step - loss: 0.3346 - accuracy: 0.8619\n",
      "Epoch 40/100\n",
      "250/250 [==============================] - 0s 755us/step - loss: 0.3340 - accuracy: 0.8631\n",
      "Epoch 41/100\n",
      "250/250 [==============================] - 0s 717us/step - loss: 0.3339 - accuracy: 0.8621\n",
      "Epoch 42/100\n",
      "250/250 [==============================] - 0s 718us/step - loss: 0.3333 - accuracy: 0.8633\n",
      "Epoch 43/100\n",
      "250/250 [==============================] - 0s 728us/step - loss: 0.3334 - accuracy: 0.8614\n",
      "Epoch 44/100\n",
      "250/250 [==============================] - 0s 754us/step - loss: 0.3330 - accuracy: 0.8626\n",
      "Epoch 45/100\n",
      "250/250 [==============================] - 0s 711us/step - loss: 0.3331 - accuracy: 0.8615\n",
      "Epoch 46/100\n",
      "250/250 [==============================] - 0s 758us/step - loss: 0.3330 - accuracy: 0.8630\n",
      "Epoch 47/100\n",
      "250/250 [==============================] - 0s 690us/step - loss: 0.3324 - accuracy: 0.8634\n",
      "Epoch 48/100\n",
      "250/250 [==============================] - 0s 716us/step - loss: 0.3327 - accuracy: 0.8637\n",
      "Epoch 49/100\n",
      "250/250 [==============================] - 0s 715us/step - loss: 0.3320 - accuracy: 0.8630\n",
      "Epoch 50/100\n",
      "250/250 [==============================] - 0s 712us/step - loss: 0.3324 - accuracy: 0.8627\n",
      "Epoch 51/100\n",
      "250/250 [==============================] - 0s 755us/step - loss: 0.3321 - accuracy: 0.8626\n",
      "Epoch 52/100\n",
      "250/250 [==============================] - 0s 691us/step - loss: 0.3318 - accuracy: 0.8615\n",
      "Epoch 53/100\n",
      "250/250 [==============================] - 0s 773us/step - loss: 0.3322 - accuracy: 0.8620\n",
      "Epoch 54/100\n",
      "250/250 [==============================] - 0s 682us/step - loss: 0.3323 - accuracy: 0.8620\n",
      "Epoch 55/100\n",
      "250/250 [==============================] - 0s 730us/step - loss: 0.3321 - accuracy: 0.8635\n",
      "Epoch 56/100\n",
      "250/250 [==============================] - 0s 741us/step - loss: 0.3316 - accuracy: 0.8619\n",
      "Epoch 57/100\n",
      "250/250 [==============================] - 0s 708us/step - loss: 0.3316 - accuracy: 0.8641\n",
      "Epoch 58/100\n",
      "250/250 [==============================] - 0s 699us/step - loss: 0.3318 - accuracy: 0.8619\n",
      "Epoch 59/100\n",
      "250/250 [==============================] - 0s 705us/step - loss: 0.3314 - accuracy: 0.8634\n",
      "Epoch 60/100\n",
      "250/250 [==============================] - 0s 706us/step - loss: 0.3315 - accuracy: 0.8610\n",
      "Epoch 61/100\n",
      "250/250 [==============================] - 0s 702us/step - loss: 0.3308 - accuracy: 0.8643\n",
      "Epoch 62/100\n",
      "250/250 [==============================] - 0s 770us/step - loss: 0.3315 - accuracy: 0.8618\n",
      "Epoch 63/100\n",
      "250/250 [==============================] - 0s 685us/step - loss: 0.3315 - accuracy: 0.8637\n",
      "Epoch 64/100\n",
      "250/250 [==============================] - 0s 759us/step - loss: 0.3311 - accuracy: 0.8630\n",
      "Epoch 65/100\n",
      "250/250 [==============================] - 0s 750us/step - loss: 0.3314 - accuracy: 0.8616\n",
      "Epoch 66/100\n",
      "250/250 [==============================] - 0s 718us/step - loss: 0.3312 - accuracy: 0.8625\n",
      "Epoch 67/100\n",
      "250/250 [==============================] - 0s 741us/step - loss: 0.3309 - accuracy: 0.8619\n",
      "Epoch 68/100\n",
      "250/250 [==============================] - 0s 728us/step - loss: 0.3305 - accuracy: 0.8614\n",
      "Epoch 69/100\n",
      "250/250 [==============================] - 0s 736us/step - loss: 0.3307 - accuracy: 0.8622\n",
      "Epoch 70/100\n",
      "250/250 [==============================] - 0s 702us/step - loss: 0.3307 - accuracy: 0.8624\n",
      "Epoch 71/100\n",
      "250/250 [==============================] - 0s 693us/step - loss: 0.3306 - accuracy: 0.8631\n",
      "Epoch 72/100\n",
      "250/250 [==============================] - 0s 697us/step - loss: 0.3307 - accuracy: 0.8633\n",
      "Epoch 73/100\n",
      "250/250 [==============================] - 0s 746us/step - loss: 0.3303 - accuracy: 0.8633\n",
      "Epoch 74/100\n",
      "250/250 [==============================] - 0s 848us/step - loss: 0.3303 - accuracy: 0.8635\n",
      "Epoch 75/100\n",
      "250/250 [==============================] - 0s 734us/step - loss: 0.3301 - accuracy: 0.8644\n",
      "Epoch 76/100\n",
      "250/250 [==============================] - 0s 719us/step - loss: 0.3305 - accuracy: 0.8639\n",
      "Epoch 77/100\n",
      "250/250 [==============================] - 0s 708us/step - loss: 0.3298 - accuracy: 0.8633\n",
      "Epoch 78/100\n",
      "250/250 [==============================] - 0s 707us/step - loss: 0.3301 - accuracy: 0.8645\n",
      "Epoch 79/100\n",
      "250/250 [==============================] - 0s 699us/step - loss: 0.3299 - accuracy: 0.8635\n",
      "Epoch 80/100\n",
      "250/250 [==============================] - 0s 843us/step - loss: 0.3302 - accuracy: 0.8636\n",
      "Epoch 81/100\n",
      "250/250 [==============================] - 0s 723us/step - loss: 0.3299 - accuracy: 0.8649\n",
      "Epoch 82/100\n",
      "250/250 [==============================] - 0s 724us/step - loss: 0.3296 - accuracy: 0.8627\n",
      "Epoch 83/100\n",
      "250/250 [==============================] - 0s 723us/step - loss: 0.3294 - accuracy: 0.8641\n",
      "Epoch 84/100\n",
      "250/250 [==============================] - 0s 722us/step - loss: 0.3299 - accuracy: 0.8626\n",
      "Epoch 85/100\n",
      "250/250 [==============================] - 0s 723us/step - loss: 0.3299 - accuracy: 0.8626\n",
      "Epoch 86/100\n",
      "250/250 [==============================] - 0s 723us/step - loss: 0.3297 - accuracy: 0.8648\n",
      "Epoch 87/100\n",
      "250/250 [==============================] - 0s 723us/step - loss: 0.3297 - accuracy: 0.8625\n",
      "Epoch 88/100\n",
      "250/250 [==============================] - 0s 722us/step - loss: 0.3296 - accuracy: 0.8649\n",
      "Epoch 89/100\n",
      "250/250 [==============================] - 0s 723us/step - loss: 0.3292 - accuracy: 0.8639\n",
      "Epoch 90/100\n",
      "250/250 [==============================] - 0s 722us/step - loss: 0.3298 - accuracy: 0.8639\n",
      "Epoch 91/100\n",
      "250/250 [==============================] - 0s 724us/step - loss: 0.3294 - accuracy: 0.8608\n",
      "Epoch 92/100\n",
      "250/250 [==============================] - 0s 723us/step - loss: 0.3295 - accuracy: 0.8645\n",
      "Epoch 93/100\n",
      "250/250 [==============================] - 0s 723us/step - loss: 0.3290 - accuracy: 0.8630\n",
      "Epoch 94/100\n",
      "250/250 [==============================] - 0s 723us/step - loss: 0.3295 - accuracy: 0.8637\n",
      "Epoch 95/100\n",
      "250/250 [==============================] - 0s 683us/step - loss: 0.3291 - accuracy: 0.8641\n",
      "Epoch 96/100\n",
      "250/250 [==============================] - 0s 718us/step - loss: 0.3295 - accuracy: 0.8640\n",
      "Epoch 97/100\n",
      "250/250 [==============================] - 0s 724us/step - loss: 0.3294 - accuracy: 0.8652\n",
      "Epoch 98/100\n",
      "250/250 [==============================] - 0s 713us/step - loss: 0.3290 - accuracy: 0.8648\n",
      "Epoch 99/100\n",
      "250/250 [==============================] - 0s 765us/step - loss: 0.3288 - accuracy: 0.8636\n",
      "Epoch 100/100\n",
      "250/250 [==============================] - 0s 719us/step - loss: 0.3290 - accuracy: 0.8648\n"
     ]
    },
    {
     "data": {
      "text/plain": [
       "<keras.src.callbacks.History at 0x190727362e0>"
      ]
     },
     "execution_count": 223,
     "metadata": {},
     "output_type": "execute_result"
    }
   ],
   "source": [
    "ann.fit(X_train, y_train, batch_size = 32, epochs = 100)"
   ]
  },
  {
   "cell_type": "markdown",
   "metadata": {},
   "source": [
    "# Making the prediction and evaluating the model"
   ]
  },
  {
   "cell_type": "markdown",
   "metadata": {},
   "source": [
    "#### Predicting the result of a single observation"
   ]
  },
  {
   "cell_type": "markdown",
   "metadata": {},
   "source": [
    "###### Use our ANN model to predict if the customer with the following information will leave the bank:\n",
    "###### Geography:France\n",
    "###### Credit Score:600\n",
    "###### Gender:Male\n",
    "###### Age:40 years old\n",
    "###### Tenure:3years\n",
    "###### Balance:$60000\n",
    "###### Number of Products:2\n",
    "###### Does this customer have a credit card? Yes\n",
    "###### Is this customer have a credict card? Yes\n",
    "###### Estimated Salary:$50000\n",
    "###### So,should we say goodbye to that customer"
   ]
  },
  {
   "cell_type": "code",
   "execution_count": 224,
   "metadata": {},
   "outputs": [
    {
     "name": "stdout",
     "output_type": "stream",
     "text": [
      "1/1 [==============================] - 0s 45ms/step\n"
     ]
    },
    {
     "data": {
      "text/plain": [
       "array([[False]])"
      ]
     },
     "execution_count": 224,
     "metadata": {},
     "output_type": "execute_result"
    }
   ],
   "source": [
    "ann.predict(sc.transform([[1,0,0,600,1,40,3,60000,2,1,1,50000]]))>0.5\n",
    "# y_predict = ann.predict([[1,0,0,600,1,40,3,60000,2,1,1,50000]])\n",
    "# print(y_predict)\n",
    "# print(\"THE PREDICTED VALUE IS : \",np.argmax(y_predict[0]))"
   ]
  },
  {
   "cell_type": "markdown",
   "metadata": {},
   "source": [
    "#### Predicting the test results"
   ]
  },
  {
   "cell_type": "code",
   "execution_count": 228,
   "metadata": {},
   "outputs": [
    {
     "name": "stdout",
     "output_type": "stream",
     "text": [
      "63/63 [==============================] - 0s 610us/step\n"
     ]
    }
   ],
   "source": [
    "y_predict = ann.predict(X_test)\n",
    "y_predict = (y_predict>0.5)\n",
    "# print(np.concatenate((y_predict.reshape(len(y_predict),1),y_test.reshape(len(y_test),1)),1))"
   ]
  },
  {
   "cell_type": "code",
   "execution_count": 229,
   "metadata": {},
   "outputs": [
    {
     "name": "stdout",
     "output_type": "stream",
     "text": [
      "63/63 [==============================] - 0s 724us/step - loss: 0.3344 - accuracy: 0.8585\n"
     ]
    },
    {
     "data": {
      "text/plain": [
       "[0.33443811535835266, 0.8585000038146973]"
      ]
     },
     "execution_count": 229,
     "metadata": {},
     "output_type": "execute_result"
    }
   ],
   "source": [
    "ann.evaluate(X_test,y_test)"
   ]
  },
  {
   "cell_type": "markdown",
   "metadata": {},
   "source": [
    "#### Making the confusion Matrix"
   ]
  },
  {
   "cell_type": "code",
   "execution_count": 230,
   "metadata": {},
   "outputs": [
    {
     "name": "stdout",
     "output_type": "stream",
     "text": [
      "[[1512   83]\n",
      " [ 200  205]]\n"
     ]
    },
    {
     "data": {
      "text/plain": [
       "0.8585"
      ]
     },
     "execution_count": 230,
     "metadata": {},
     "output_type": "execute_result"
    }
   ],
   "source": [
    "from sklearn.metrics import accuracy_score,confusion_matrix\n",
    "cm = confusion_matrix(y_test,y_predict)\n",
    "print(cm)\n",
    "accuracy_score(y_test,y_predict)\n"
   ]
  },
  {
   "cell_type": "code",
   "execution_count": null,
   "metadata": {},
   "outputs": [],
   "source": []
  }
 ],
 "metadata": {
  "kernelspec": {
   "display_name": "Python 3",
   "language": "python",
   "name": "python3"
  },
  "language_info": {
   "codemirror_mode": {
    "name": "ipython",
    "version": 3
   },
   "file_extension": ".py",
   "mimetype": "text/x-python",
   "name": "python",
   "nbconvert_exporter": "python",
   "pygments_lexer": "ipython3",
   "version": "3.9.0"
  }
 },
 "nbformat": 4,
 "nbformat_minor": 2
}
